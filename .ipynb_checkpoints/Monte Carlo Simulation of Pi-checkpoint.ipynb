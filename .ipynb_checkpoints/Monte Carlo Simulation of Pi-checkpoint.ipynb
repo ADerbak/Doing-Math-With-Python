{
 "cells": [
  {
   "cell_type": "code",
   "execution_count": 1,
   "metadata": {},
   "outputs": [],
   "source": [
    "# https://towardsdev.com/good-beginner-exercise-for-improving-programming-monte-carlo-simulation-of-the-approximation-of-838dc17eb6bc?gi=b9accc6f312"
   ]
  },
  {
   "cell_type": "markdown",
   "metadata": {},
   "source": [
    "# Finding Pi using Monte Carlo Simulation\n",
    "\n",
    "### In this notebook, we approximate the value of Pi by taking a quarter of a circle (an arc) within a square. \n",
    "\n",
    "We can get Pi by getting the number of \"shots\" under or on the arc (unit length of 1) and dividing that by all the number of shots and multiplying by 4"
   ]
  },
  {
   "cell_type": "code",
   "execution_count": 3,
   "metadata": {},
   "outputs": [],
   "source": [
    "import random\n",
    "\n",
    "def pi_approximation(num_of_spots):\n",
    "    \n",
    "    inside_of_circle = []\n",
    "    outside_of_circle = []\n",
    "    \n",
    "    num_of_spots_inside_of_circle = 0\n",
    "    for i in range(num_of_spots):\n",
    "        x, y = random.random(), random.random()\n",
    "        if((x**2+y**2)**0.5) <= 1:\n",
    "            inside_of_circle.append((x,y))\n",
    "            num_of_spots_inside_of_circle += 1\n",
    "        else:\n",
    "            outside_of_circle.append((x,y))\n",
    "    \n",
    "    approx_pi = (num_of_spots_inside_of_circle/num_of_spots) * 4\n",
    "    \n",
    "    return approx_pi"
   ]
  },
  {
   "cell_type": "code",
   "execution_count": 4,
   "metadata": {},
   "outputs": [
    {
     "name": "stdout",
     "output_type": "stream",
     "text": [
      "pi_approximated: 2.8\n",
      "time needed for calculation based on 10 spots 0.0004 seconds\n",
      "pi_approximated: 2.88\n",
      "time needed for calculation based on 100 spots 0.0038 seconds\n",
      "pi_approximated: 3.1568\n",
      "time needed for calculation based on 10000 spots 0.0134 seconds\n",
      "pi_approximated: 3.14724\n",
      "time needed for calculation based on 100000 spots 0.0645 seconds\n",
      "pi_approximated: 3.141764\n",
      "time needed for calculation based on 1000000 spots 0.5397 seconds\n"
     ]
    }
   ],
   "source": [
    "import time\n",
    "\n",
    "for i in [10, 100, 10000, 100000, 1000000]:\n",
    "    start = time.monotonic()\n",
    "    print('pi_approximated:', pi_approximation(i))\n",
    "    end = time.monotonic()\n",
    "    print(f'time needed for calculation based on {i} spots', round(end-start,4),'seconds')"
   ]
  },
  {
   "cell_type": "code",
   "execution_count": null,
   "metadata": {},
   "outputs": [],
   "source": []
  }
 ],
 "metadata": {
  "kernelspec": {
   "display_name": "Python 3",
   "language": "python",
   "name": "python3"
  },
  "language_info": {
   "codemirror_mode": {
    "name": "ipython",
    "version": 3
   },
   "file_extension": ".py",
   "mimetype": "text/x-python",
   "name": "python",
   "nbconvert_exporter": "python",
   "pygments_lexer": "ipython3",
   "version": "3.6.6+"
  }
 },
 "nbformat": 4,
 "nbformat_minor": 2
}
