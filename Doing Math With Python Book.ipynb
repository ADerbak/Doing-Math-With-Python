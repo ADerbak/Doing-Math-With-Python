{
 "cells": [
  {
   "cell_type": "markdown",
   "metadata": {},
   "source": [
    "## Chapter 1"
   ]
  },
  {
   "cell_type": "code",
   "execution_count": null,
   "metadata": {},
   "outputs": [],
   "source": [
    "# Introduction\n",
    "print('Hello IDLE')\n",
    "\n",
    "print(1 + 2)\n",
    "\n",
    "print(1 + 3.5)\n",
    "\n",
    "print(-1 + 2.5)\n",
    "\n",
    "print(100 - 45)\n",
    "\n",
    "print(-1.1 + 5)\n",
    "\n"
   ]
  },
  {
   "cell_type": "code",
   "execution_count": null,
   "metadata": {},
   "outputs": [],
   "source": [
    "# Making Fractions\n",
    "\n",
    "from fractions import Fraction\n",
    "f = Fraction(3,4)\n",
    "print(f)\n",
    "\n",
    "print( f + 1 + 1.5)\n",
    "\n"
   ]
  },
  {
   "cell_type": "code",
   "execution_count": null,
   "metadata": {},
   "outputs": [],
   "source": [
    "# complex numbers\n",
    "# use j or J instead of i\n",
    "\n",
    "a = 2 + 3j\n",
    "print(type(a))\n",
    "\n",
    "# we can also use complex() to specify complex numbers\n",
    "a = complex(2,3)\n",
    "print(a)\n",
    "\n",
    "b = 3 + 3j\n",
    "print(a + b)\n",
    "print(a - b)\n",
    "\n",
    "# get the real parts of imaginary numbers\n",
    "print(a.real)\n",
    "# get the imaginary parts of imaginary numbers\n",
    "print(a.imag)\n",
    "\n",
    "# get the conjugate of imaginary numbers\n",
    "print(a.conjugate())\n",
    "\n",
    "# to get the magnitude of imaginary numbers, we can use \n",
    "# the equation (real number ** 2 + imaginary ** 2) ** 0.5 or use the abs() function\n",
    "print(abs(a))\n",
    "\n",
    "# There is also a standard library 'cmath' that can \n",
    "# do specialized, complex math\n",
    "\n"
   ]
  },
  {
   "cell_type": "code",
   "execution_count": null,
   "metadata": {},
   "outputs": [],
   "source": [
    "### Getting User Input\n",
    "a = input()\n",
    "# returns always as a string\n",
    "# use int() or float() to convert to a number\n",
    "print(int(a) + 1)\n",
    "\n",
    "## Handling Exceptions and Invalid Input\n",
    "\n",
    "try:\n",
    "    a = float(input('Enter a number: '))\n",
    "except ValueError:\n",
    "    print('You entered an invalid number')\n",
    "    \n",
    "# Other errors:\n",
    "    #ZeroDivisionError\n",
    "    #ValueError\n",
    "\n",
    "\n"
   ]
  },
  {
   "cell_type": "code",
   "execution_count": null,
   "metadata": {},
   "outputs": [],
   "source": [
    "### Writing Programs to do Math for you\n",
    "\n",
    "## Calculating the Factors of an Integer\n",
    "\n",
    "def is_factor(a, b):\n",
    "    if b % a == 0:\n",
    "        return True\n",
    "    else:\n",
    "        return False\n",
    "        \n",
    "is_factor(4, 1024)\n",
    "\n"
   ]
  },
  {
   "cell_type": "code",
   "execution_count": null,
   "metadata": {},
   "outputs": [],
   "source": [
    "# writing for loops\n",
    "for i in range(1, 4):\n",
    "    print(i)\n",
    "    \n",
    "for i in range(5):\n",
    "    print(i)\n",
    "    \n",
    "for i in range(1,10,2):\n",
    "    print(i)\n",
    "    \n",
    "\n"
   ]
  },
  {
   "cell_type": "code",
   "execution_count": null,
   "metadata": {},
   "outputs": [],
   "source": [
    "'''\n",
    " Find the factors of an integer\n",
    "'''\n",
    "\n",
    "def factors(b):\n",
    "    \n",
    "    for i in range(1, b+1):\n",
    "        if b % i == 0:\n",
    "            print(i)\n",
    "            \n",
    "if __name__ == '__main__':\n",
    "    \n",
    "    b = input('Your Number Please: ')\n",
    "    b = float(b)\n",
    "    \n",
    "    if b > 0 and b.is_integer():\n",
    "            print(factors(int(b)))\n",
    "    else:\n",
    "            print('Please enter a positive integer')\n",
    "\n",
    "\n"
   ]
  },
  {
   "cell_type": "code",
   "execution_count": 1,
   "metadata": {},
   "outputs": [
    {
     "name": "stdout",
     "output_type": "stream",
     "text": [
      "Enter a number: 5\n",
      "5.0 x 1 = 5.0\n",
      "5.0 x 2 = 10.0\n",
      "5.0 x 3 = 15.0\n",
      "5.0 x 4 = 20.0\n",
      "5.0 x 5 = 25.0\n",
      "5.0 x 6 = 30.0\n",
      "5.0 x 7 = 35.0\n",
      "5.0 x 8 = 40.0\n",
      "5.0 x 9 = 45.0\n",
      "5.0 x 10 = 50.0\n"
     ]
    }
   ],
   "source": [
    "## Generating Multiplication Tables\n",
    "\n",
    "'''\n",
    "Multiplication Table printer\n",
    "'''\n",
    "\n",
    "def multi_table(a):\n",
    "    \n",
    "    for i in range(1, 11):\n",
    "        print('{0} x {1} = {2}'.format(a, i, a*i))\n",
    "        \n",
    "if __name__ == '__main__':\n",
    "    a = input('Enter a number: ')\n",
    "    multi_table(float(a))\n",
    "\n"
   ]
  },
  {
   "cell_type": "code",
   "execution_count": 3,
   "metadata": {},
   "outputs": [
    {
     "name": "stdout",
     "output_type": "stream",
     "text": [
      "1. Kilometers to Miles\n",
      "2. Miles to Kilometers\n",
      "Which converstion would you like to do?: 2\n",
      "Enter distnace in miles: 4\n",
      "Distance in kilometers: 6.436\n"
     ]
    }
   ],
   "source": [
    "'''\n",
    "Unit Converter: Miles and Kilometers\n",
    "'''\n",
    "\n",
    "def print_menu():\n",
    "    print('1. Kilometers to Miles')\n",
    "    print('2. Miles to Kilometers')\n",
    "    \n",
    "def km_miles():\n",
    "    km = float(input('Enter distance in kilometers: '))\n",
    "    miles = km / 1.609\n",
    "        \n",
    "    print('Distance in miles: {0}'.format(miles))\n",
    "\n",
    "def miles_km():\n",
    "    miles = float(input('Enter distnace in miles: '))\n",
    "    km = miles * 1.609\n",
    "    \n",
    "    print('Distance in kilometers: {0}'.format(km))\n",
    "    \n",
    "if __name__ == '__main__':\n",
    "    print_menu()\n",
    "    choice = input('Which converstion would you like to do?: ')\n",
    "    if choice == '1':\n",
    "        km_miles()\n",
    "        \n",
    "    if choice == '2':\n",
    "        miles_km()"
   ]
  },
  {
   "cell_type": "code",
   "execution_count": 5,
   "metadata": {},
   "outputs": [
    {
     "name": "stdout",
     "output_type": "stream",
     "text": [
      "Enter a: 1\n",
      "Enter b: 1\n",
      "Enter c: 1\n",
      "x1: (-0.49999999999999994+0.8660254037844386j)\n",
      "x2: (-0.5-0.8660254037844386j)\n"
     ]
    }
   ],
   "source": [
    "## Finding the Roots of a Quadratic Equation\n",
    "\n",
    "'''\n",
    "Quadratic equation root calculator\n",
    "'''\n",
    "\n",
    "def roots(a, b, c):\n",
    "    \n",
    "    D = (b*b - 4*a*c)**0.5\n",
    "    x_1 = (-b + D)/(2*a)\n",
    "    x_2 = (-b - D)/(2*a)\n",
    "    \n",
    "    print('x1: {0}'.format(x_1))\n",
    "    print('x2: {0}'.format(x_2))\n",
    "    \n",
    "if __name__ == '__main__':\n",
    "    a = input('Enter a: ')\n",
    "    b = input('Enter b: ')\n",
    "    c = input('Enter c: ')\n",
    "    roots(float(a), float(b), float(c))"
   ]
  },
  {
   "cell_type": "code",
   "execution_count": 31,
   "metadata": {},
   "outputs": [
    {
     "name": "stdout",
     "output_type": "stream",
     "text": [
      "Enter first fraction: 3/4\n",
      "Enter second fraction: 1/4\n",
      "Operation to perform - Add, Subtract, Divide, Mulitply: Divide\n",
      "Which fraction to divide first - a or b: a\n",
      "Result of Division: 3\n"
     ]
    }
   ],
   "source": [
    "'''\n",
    "Fraction operations\n",
    "'''\n",
    "\n",
    "from fractions import Fraction\n",
    "\n",
    "def add(a, b):\n",
    "    print('Result of Addition: {0}'.format(a+b))\n",
    "\n",
    "def subtract(a, b):\n",
    "    print('Result of Subtraction: {0}'.format(a-b))\n",
    "    \n",
    "def divide(a, b):\n",
    "    \n",
    "    f_input = input('Which fraction to divide first - a or b: ')\n",
    "    if f_input == 'a':\n",
    "        print('Result of Division: {0}'.format(a / b))\n",
    "    else:\n",
    "        print('Result of Division: {0}'.format(b / a))\n",
    "    \n",
    "def multiple(a, b):\n",
    "    print('Result of Multiply: {0}'.format(a*b))\n",
    "    \n",
    "if __name__ == '__main__':\n",
    "    a = Fraction(input('Enter first fraction: '))\n",
    "    b = Fraction(input('Enter second fraction: '))\n",
    "    op = input('Operation to perform - Add, Subtract, Divide, Mulitply: ')\n",
    "    if op == 'Add':\n",
    "        add(a, b)\n",
    "    if op == 'Subtract':\n",
    "        subtract(a, b)\n",
    "    if op == 'Divide':\n",
    "        divide(a, b)\n",
    "    if op == 'Multiply':\n",
    "        multiple(a, b)"
   ]
  },
  {
   "cell_type": "markdown",
   "metadata": {},
   "source": [
    "## Chapter 2 - Visualizing with Graphs"
   ]
  },
  {
   "cell_type": "code",
   "execution_count": null,
   "metadata": {},
   "outputs": [],
   "source": []
  },
  {
   "cell_type": "code",
   "execution_count": null,
   "metadata": {},
   "outputs": [],
   "source": []
  },
  {
   "cell_type": "code",
   "execution_count": null,
   "metadata": {},
   "outputs": [],
   "source": []
  },
  {
   "cell_type": "code",
   "execution_count": null,
   "metadata": {},
   "outputs": [],
   "source": []
  }
 ],
 "metadata": {
  "kernelspec": {
   "display_name": "Python 3",
   "language": "python",
   "name": "python3"
  },
  "language_info": {
   "codemirror_mode": {
    "name": "ipython",
    "version": 3
   },
   "file_extension": ".py",
   "mimetype": "text/x-python",
   "name": "python",
   "nbconvert_exporter": "python",
   "pygments_lexer": "ipython3",
   "version": "3.7.6"
  }
 },
 "nbformat": 4,
 "nbformat_minor": 4
}
